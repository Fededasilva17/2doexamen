{
 "cells": [
  {
   "cell_type": "code",
   "execution_count": 17,
   "metadata": {},
   "outputs": [],
   "source": [
    "import pandas as pd\n",
    "import numpy as np\n",
    "\n",
    "# Reemplaza 'tu_archivo.csv' con la ruta de tu archivo CSV\n",
    "df = pd.read_csv('hotel_bookings.csv')\n"
   ]
  },
  {
   "cell_type": "code",
   "execution_count": 18,
   "metadata": {},
   "outputs": [
    {
     "name": "stdout",
     "output_type": "stream",
     "text": [
      "(119390, 32)\n",
      "(87396, 32)\n",
      "31994\n"
     ]
    }
   ],
   "source": [
    "#Detección y eliminación de valores duplicados: \n",
    "#Asegúrate de que cada registro en el dataset sea único.\n",
    "print(df.shape)\n",
    "antes=df.shape[0]\n",
    "df.drop_duplicates(inplace=True)\n",
    "print(df.shape)\n",
    "despues=df.shape[0]\n",
    "print(antes-despues)\n",
    "\n",
    "\n"
   ]
  },
  {
   "cell_type": "code",
   "execution_count": 21,
   "metadata": {},
   "outputs": [
    {
     "name": "stdout",
     "output_type": "stream",
     "text": [
      "hotel                              object\n",
      "is_canceled                         int64\n",
      "lead_time                           int64\n",
      "arrival_date_year                   int64\n",
      "arrival_date_month                 object\n",
      "arrival_date_week_number            int64\n",
      "arrival_date_day_of_month           int64\n",
      "stays_in_weekend_nights             int64\n",
      "stays_in_week_nights                int64\n",
      "adults                              int64\n",
      "children                          float64\n",
      "babies                              int64\n",
      "meal                               object\n",
      "country                            object\n",
      "market_segment                     object\n",
      "distribution_channel               object\n",
      "is_repeated_guest                   int64\n",
      "previous_cancellations              int64\n",
      "previous_bookings_not_canceled      int64\n",
      "reserved_room_type                 object\n",
      "assigned_room_type                 object\n",
      "booking_changes                     int64\n",
      "deposit_type                       object\n",
      "agent                             float64\n",
      "company                           float64\n",
      "days_in_waiting_list                int64\n",
      "customer_type                      object\n",
      "adr                               float64\n",
      "required_car_parking_spaces         int64\n",
      "total_of_special_requests           int64\n",
      "reservation_status                 object\n",
      "reservation_status_date            object\n",
      "dtype: object\n",
      "Este es el nuevo: \n",
      "hotel                                     object\n",
      "is_canceled                                int64\n",
      "lead_time                                  int64\n",
      "arrival_date_year                          int64\n",
      "arrival_date_month                        object\n",
      "arrival_date_week_number                   int64\n",
      "arrival_date_day_of_month                  int64\n",
      "stays_in_weekend_nights                    int64\n",
      "stays_in_week_nights                       int64\n",
      "adults                                     int64\n",
      "children                                 float64\n",
      "babies                                     int64\n",
      "meal                                      object\n",
      "country                                   object\n",
      "market_segment                            object\n",
      "distribution_channel                      object\n",
      "is_repeated_guest                          int64\n",
      "previous_cancellations                     int64\n",
      "previous_bookings_not_canceled             int64\n",
      "reserved_room_type                        object\n",
      "assigned_room_type                        object\n",
      "booking_changes                            int64\n",
      "deposit_type                              object\n",
      "agent                                    float64\n",
      "company                                  float64\n",
      "days_in_waiting_list                       int64\n",
      "customer_type                             object\n",
      "adr                                      float64\n",
      "required_car_parking_spaces                int64\n",
      "total_of_special_requests                  int64\n",
      "reservation_status                        object\n",
      "reservation_status_date           datetime64[ns]\n",
      "dtype: object\n"
     ]
    }
   ],
   "source": [
    "#Verificación y ajuste de tipos de datos: Asegúrate de que todas las \n",
    "#columnas coincidan con los tipos de datos indicados en el diccionario de datos.\n",
    "diccionario = {\n",
    "    'hotel': 'object',  # Categoría o nombre del hotel\n",
    "    'is_canceled': 'int64',  # 0 o 1 para cancelado/no cancelado\n",
    "    'lead_time': 'int64',  # Días entre la reserva y la llegada\n",
    "    'arrival_date_year': 'int64',  # Año de llegada\n",
    "    'arrival_date_month': 'object',  # Mes como texto o número\n",
    "    'arrival_date_week_number': 'int64',  # Semana del año\n",
    "    'arrival_date_day_of_month': 'int64',  # Día del mes\n",
    "    'stays_in_weekend_nights': 'int64',  # Número de noches en fin de semana\n",
    "    'stays_in_week_nights': 'int64',  # Número de noches en semana\n",
    "    'adults': 'int64',  # Número de adultos\n",
    "    'children': 'float64',  # Número de niños\n",
    "    'babies': 'int64',  # Número de bebés\n",
    "    'meal': 'object',  # Tipo de comida reservada\n",
    "    'country': 'object',  # Código del país\n",
    "    'market_segment': 'object',  # Segmento de mercado\n",
    "    'distribution_channel': 'object',  # Canal de distribución\n",
    "    'is_repeated_guest': 'int64',  # 0 o 1 si es huésped repetido\n",
    "    'previous_cancellations': 'int64',  # Número de cancelaciones previas\n",
    "    'previous_bookings_not_canceled': 'int64',  # Reservas previas no canceladas\n",
    "    'reserved_room_type': 'object',  # Tipo de habitación reservada\n",
    "    'assigned_room_type': 'object',  # Tipo de habitación asignada\n",
    "    'booking_changes': 'int64',  # Número de cambios en la reserva\n",
    "    'deposit_type': 'object',  # Tipo de depósito (No Deposit, Refundable, Non Refundable)\n",
    "    'agent': 'float64',  # ID del agente de reserva (como float64)\n",
    "    'company': 'float64',  # ID de la empresa (como float64)\n",
    "    'days_in_waiting_list': 'int64',  # Días en lista de espera\n",
    "    'customer_type': 'object',  # Tipo de cliente\n",
    "    'adr': 'float64',  # Tarifa promedio diaria\n",
    "    'required_car_parking_spaces': 'int64',  # Espacios de estacionamiento requeridos\n",
    "    'total_of_special_requests': 'int64',  # Número de solicitudes especiales\n",
    "    'reservation_status': 'object',  # Estado de la reserva\n",
    "    'reservation_status_date': 'datetime64[ns]',  # Fecha de estado de la reserva\n",
    "} #Un diccionario de como me parecio que deben ser los datos\n",
    "\n",
    "print(df.dtypes) #Podemos ver que hay datos diferentes\n",
    "\n",
    "for columna, tipo in diccionario.items():\n",
    "    if columna in df.columns:\n",
    "        df[columna] = df[columna].astype(tipo)\n",
    "print(f\"Este es el nuevo: \\n{df.dtypes}\")"
   ]
  },
  {
   "cell_type": "code",
   "execution_count": null,
   "metadata": {},
   "outputs": [],
   "source": []
  }
 ],
 "metadata": {
  "kernelspec": {
   "display_name": "Python 3",
   "language": "python",
   "name": "python3"
  },
  "language_info": {
   "codemirror_mode": {
    "name": "ipython",
    "version": 3
   },
   "file_extension": ".py",
   "mimetype": "text/x-python",
   "name": "python",
   "nbconvert_exporter": "python",
   "pygments_lexer": "ipython3",
   "version": "3.12.1"
  }
 },
 "nbformat": 4,
 "nbformat_minor": 2
}
